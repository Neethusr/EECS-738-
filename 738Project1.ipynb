{
  "nbformat": 4,
  "nbformat_minor": 0,
  "metadata": {
    "colab": {
      "name": "738Project1.ipynb",
      "provenance": [],
      "toc_visible": true
    },
    "kernelspec": {
      "name": "python3",
      "display_name": "Python 3"
    }
  },
  "cells": [
    {
      "cell_type": "code",
      "metadata": {
        "id": "a7jcq6MFs_mY"
      },
      "source": [
        "import numpy as np\n",
        "import pandas as pd\n"
      ],
      "execution_count": 9,
      "outputs": []
    },
    {
      "cell_type": "code",
      "metadata": {
        "colab": {
          "base_uri": "https://localhost:8080/"
        },
        "id": "FgK6ddTphjQ4",
        "outputId": "12b81bf2-52bb-4ba1-ff6f-2fdd82341bac"
      },
      "source": [
        "\n",
        "import math\n",
        "import operator\n",
        "def D(dptrain, dptest, sd):\n",
        "     d = 0\n",
        "     for col in range(sd):\n",
        "        d += pow((dptest[col] - dptrain[col]), 2)\n",
        "        \n",
        "     return np.sqrt(d)\n",
        "def fc(listn, trds):\n",
        "     listClass ={}\n",
        "     for templn in range(len(listn)):\n",
        "        tempClass = trds.iloc[listn[templn]][-1]\n",
        " \n",
        "        if tempClass in listClass:\n",
        "            listClass[tempClass] += 1\n",
        "        else:\n",
        "            listClass[tempClass] = 1\n",
        "     listsort = sorted(listClass.items(), key=operator.itemgetter(1), reverse=True)\n",
        "     return listsort[0][0]\n",
        "\n",
        "def rd(q):\n",
        "    vodd = int(np.floor(q))\n",
        "    return vodd - 1 if vodd % 2 == 0 else vodd\n",
        "\n",
        "def f(k, trds, testds, vk):\n",
        "    \n",
        "    listd = {}  \n",
        "    vc = testds.shape[1]  \n",
        "    \n",
        "    if vk=='auto' or vk=='Auto' or vk=='AUTO':\n",
        "        k =  rd(math.sqrt(len(trds)))\n",
        "        print(\"The auto value selected for k is--->\", k)\n",
        "    \n",
        "    for tempCol in range(len(trds)):\n",
        "        locd = D(trds.iloc[tempCol],testds,  vc)\n",
        "        listd[tempCol] = locd[0] \n",
        "        \n",
        "     \n",
        "    sortd = sorted(listd.items(), key=operator.itemgetter(1))\n",
        "    \n",
        "    listn = []\n",
        "    for temp in range(k):\n",
        "        listn.append(sortd[temp][0])\n",
        "   \n",
        "    print(\"The value of K is:\", k,\" and the nearest neighbours are:  \", listn)\n",
        "    \n",
        "    output= fc(listn, trds)\n",
        "    \n",
        "    print(\"The class or output is:\", output)\n",
        "\n",
        "\n",
        "\n",
        "# Testing the output of a person with liver disease\n",
        "testds = [[62,1,10.9,5.5,699,64,100,7.5,3.2,0.74]]\n",
        "testDF = pd.DataFrame(testds)\n",
        "\n",
        "k = 2 \n",
        "f(k,dataframe, testDF, 'manual' )\n",
        "k=5\n",
        "f(5,dataframe, testDF, 'manual' )\n",
        "k = 7 \n",
        "f(k,dataframe, testDF, 'manual' )\n",
        "\n",
        "\n",
        "# Testing the output of a person without liver disease\n",
        "testds = [[36,2,0.7,0.2,152,21,25,5.9,3.1,1.1]]\n",
        "testDF = pd.DataFrame(testds)\n",
        "\n",
        "k = 2 \n",
        "f(k,dataframe, testDF, 'manual' )\n",
        "k=5\n",
        "f(5,dataframe, testDF, 'manual' )\n",
        "k = 7 \n",
        "f(k,dataframe, testDF, 'manual' )"
      ],
      "execution_count": 10,
      "outputs": [
        {
          "output_type": "stream",
          "text": [
            "The value of K is: 2  and the nearest neighbours are:   [1, 196]\n",
            "The class or output is: 1.0\n",
            "The value of K is: 5  and the nearest neighbours are:   [1, 196, 79, 341, 415]\n",
            "The class or output is: 1.0\n",
            "The value of K is: 7  and the nearest neighbours are:   [1, 196, 79, 341, 415, 172, 186]\n",
            "The class or output is: 1.0\n",
            "The value of K is: 2  and the nearest neighbours are:   [333, 202]\n",
            "The class or output is: 2.0\n",
            "The value of K is: 5  and the nearest neighbours are:   [333, 202, 313, 325, 237]\n",
            "The class or output is: 2.0\n",
            "The value of K is: 7  and the nearest neighbours are:   [333, 202, 313, 325, 237, 551, 287]\n",
            "The class or output is: 2.0\n"
          ],
          "name": "stdout"
        }
      ]
    }
  ]
}